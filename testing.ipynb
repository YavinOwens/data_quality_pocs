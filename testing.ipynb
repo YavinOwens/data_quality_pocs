{
 "cells": [
  {
   "cell_type": "code",
   "execution_count": 1,
   "metadata": {},
   "outputs": [],
   "source": [
    "import sys\n",
    "sys.path.append('data_quality_doctor')\n",
    "\n",
    "from data_doctor import DataDoctor"
   ]
  },
  {
   "cell_type": "code",
   "execution_count": 2,
   "metadata": {},
   "outputs": [
    {
     "name": "stdout",
     "output_type": "stream",
     "text": [
      "File 'data/data_quality_checks_template.xlsx' already exists. Not overwriting.\n",
      "Completeness analysis results:\n",
      "        Column Name Total Rows Missing Values Non-Missing Values  \\\n",
      "0           case_id        200              0                200   \n",
      "1        patient_id        200              0                200   \n",
      "2       provider_id        200              0                200   \n",
      "3  case_description        200              0                200   \n",
      "4       case_status        200              0                200   \n",
      "\n",
      "   Completeness (%)  \n",
      "0             100.0  \n",
      "1             100.0  \n",
      "2             100.0  \n",
      "3             100.0  \n",
      "4             100.0  \n"
     ]
    },
    {
     "name": "stderr",
     "output_type": "stream",
     "text": [
      "/workspaces/data_quality_pocs/data_quality_doctor/data_doctor.py:263: FutureWarning: The behavior of DataFrame concatenation with empty or all-NA entries is deprecated. In a future version, this will no longer exclude empty or all-NA columns when determining the result dtypes. To retain the old behavior, exclude the relevant entries before the concat operation.\n",
      "  completeness_results = pd.concat([completeness_results, completeness_df], ignore_index=True)\n"
     ]
    },
    {
     "data": {
      "text/html": [
       "<div>\n",
       "<style scoped>\n",
       "    .dataframe tbody tr th:only-of-type {\n",
       "        vertical-align: middle;\n",
       "    }\n",
       "\n",
       "    .dataframe tbody tr th {\n",
       "        vertical-align: top;\n",
       "    }\n",
       "\n",
       "    .dataframe thead th {\n",
       "        text-align: right;\n",
       "    }\n",
       "</style>\n",
       "<table border=\"1\" class=\"dataframe\">\n",
       "  <thead>\n",
       "    <tr style=\"text-align: right;\">\n",
       "      <th></th>\n",
       "      <th>Column Name</th>\n",
       "      <th>Total Rows</th>\n",
       "      <th>Missing Values</th>\n",
       "      <th>Non-Missing Values</th>\n",
       "      <th>Completeness (%)</th>\n",
       "    </tr>\n",
       "  </thead>\n",
       "  <tbody>\n",
       "    <tr>\n",
       "      <th>0</th>\n",
       "      <td>case_id</td>\n",
       "      <td>200</td>\n",
       "      <td>0</td>\n",
       "      <td>200</td>\n",
       "      <td>100.0</td>\n",
       "    </tr>\n",
       "    <tr>\n",
       "      <th>1</th>\n",
       "      <td>patient_id</td>\n",
       "      <td>200</td>\n",
       "      <td>0</td>\n",
       "      <td>200</td>\n",
       "      <td>100.0</td>\n",
       "    </tr>\n",
       "    <tr>\n",
       "      <th>2</th>\n",
       "      <td>provider_id</td>\n",
       "      <td>200</td>\n",
       "      <td>0</td>\n",
       "      <td>200</td>\n",
       "      <td>100.0</td>\n",
       "    </tr>\n",
       "    <tr>\n",
       "      <th>3</th>\n",
       "      <td>case_description</td>\n",
       "      <td>200</td>\n",
       "      <td>0</td>\n",
       "      <td>200</td>\n",
       "      <td>100.0</td>\n",
       "    </tr>\n",
       "    <tr>\n",
       "      <th>4</th>\n",
       "      <td>case_status</td>\n",
       "      <td>200</td>\n",
       "      <td>0</td>\n",
       "      <td>200</td>\n",
       "      <td>100.0</td>\n",
       "    </tr>\n",
       "  </tbody>\n",
       "</table>\n",
       "</div>"
      ],
      "text/plain": [
       "        Column Name Total Rows Missing Values Non-Missing Values  \\\n",
       "0           case_id        200              0                200   \n",
       "1        patient_id        200              0                200   \n",
       "2       provider_id        200              0                200   \n",
       "3  case_description        200              0                200   \n",
       "4       case_status        200              0                200   \n",
       "\n",
       "   Completeness (%)  \n",
       "0             100.0  \n",
       "1             100.0  \n",
       "2             100.0  \n",
       "3             100.0  \n",
       "4             100.0  "
      ]
     },
     "execution_count": 2,
     "metadata": {},
     "output_type": "execute_result"
    }
   ],
   "source": [
    "data_file_path = 'data/case_allocations.csv'\n",
    "template_file_path = 'data/data_quality_checks_template.xlsx'\n",
    "\n",
    "# Create an instance of DataDoctor\n",
    "data_doctor = DataDoctor()\n",
    "\n",
    "# Check if the template file exists, and create if it doesn't\n",
    "data_doctor.configure_quality_check(data_file_path, template_file_path)\n",
    "\n",
    "# Evaluate data quality based on the template\n",
    "completeness_results = data_doctor.evaluate_data_quality(data_file_path, template_file_path)\n",
    "\n",
    "completeness_results"
   ]
  },
  {
   "cell_type": "code",
   "execution_count": null,
   "metadata": {},
   "outputs": [],
   "source": []
  }
 ],
 "metadata": {
  "kernelspec": {
   "display_name": ".venv",
   "language": "python",
   "name": "python3"
  },
  "language_info": {
   "codemirror_mode": {
    "name": "ipython",
    "version": 3
   },
   "file_extension": ".py",
   "mimetype": "text/x-python",
   "name": "python",
   "nbconvert_exporter": "python",
   "pygments_lexer": "ipython3",
   "version": "3.10.13"
  }
 },
 "nbformat": 4,
 "nbformat_minor": 2
}
